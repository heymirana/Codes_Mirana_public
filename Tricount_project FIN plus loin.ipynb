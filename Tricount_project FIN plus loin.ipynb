{
 "cells": [
  {
   "cell_type": "code",
   "execution_count": 4,
   "metadata": {},
   "outputs": [
    {
     "name": "stdout",
     "output_type": "stream",
     "text": [
      "[('marie', '12'), (' luc', ' 12')]\n"
     ]
    }
   ],
   "source": [
    "friends = input(\"quels sont le noms de tes amis ?\")\n",
    "amount = input(\"quel est le montant dépensés par tes amis?\")\n",
    "\n",
    "list_of_friends=friends.split(\",\")\n",
    "list_of_amount=amount.split(\",\")\n",
    "\n",
    "while len(list_of_amount) != len(list_of_friends):\n",
    "    print(\"mettre le même quantité d'amis que de montants\")\n",
    "    break\n",
    "\n",
    "if len(list_of_amount) == len(list_of_friends):\n",
    "    friends = []\n",
    "    for i, _ in enumerate(list_of_friends):\n",
    "        friends.append((list_of_friends[i], list_of_amount[i]))\n",
    "    print(friends)"
   ]
  },
  {
   "cell_type": "markdown",
   "metadata": {},
   "source": []
  },
  {
   "cell_type": "code",
   "execution_count": 60,
   "metadata": {},
   "outputs": [
    {
     "name": "stdout",
     "output_type": "stream",
     "text": [
      "margo doit recevoir 17.67 € de elo\n",
      "margo doit recevoir 2.67 € de louis\n",
      "elo doit 17.67 € à margo\n",
      "[('elo', 40.0), (' louis', 55.0), (' margo ', 78.0)]\n",
      "le montant total est 173.00\n",
      "le nombre d'amis est de 3\n",
      "even share is equal to 57.67€\n",
      "{'elo': 25.67, ' louis': -23.33, ' margo ': -2.67}\n"
     ]
    }
   ],
   "source": [
    "friends = input(\"quels sont le noms de tes amis ?\")\n",
    "amount = input(\"quel est le montant dépensés par tes amis?\")\n",
    "\n",
    "list_of_friends=friends.split(\",\")\n",
    "list_of_amount=amount.split(\",\")\n",
    "\n",
    "\n",
    "try:\n",
    "     for i, amount in enumerate(list_of_amount):\n",
    "        list_of_amount[i]=float(amount)\n",
    "    \n",
    "except ValueError: \n",
    "    print(\"Mettre un nombre numérique et non en lettre!\")\n",
    "\n",
    "while len(list_of_friends) != len(list_of_amount):\n",
    "    print(\"mettre le même nombre d'amis que de montant\")\n",
    "    break\n",
    "\n",
    "if len(list_of_friends) == len(list_of_amount):\n",
    "    friends_list = []\n",
    "    ajustement={}\n",
    "    Total_amount=sum(list_of_amount)\n",
    "    for friends, amount in zip(list_of_friends, list_of_amount):\n",
    "        friends_list.append((friends, amount))\n",
    "        ajustement[friends]=balance\n",
    "        balance= float(amount) - even_share\n",
    "        ajustement_format={friends:round(balance,2) for friends, balance in ajustement.items()}\n",
    "        nb_friends=len(list_of_friends)\n",
    "        even_share=Total_amount/len(list_of_friends)\n",
    "        \n",
    "# Convertir les montants en flottants\n",
    "list_of_amount = [float(amount) for amount in list_of_amount]\n",
    "\n",
    "# Calculer la dépense moyenne par ami\n",
    "even_share = sum(list_of_amount) / len(list_of_friends)\n",
    "\n",
    "\n",
    "# Parcourir les amis pour déterminer les transactions nécessaires\n",
    "for friend, amount in zip(list_of_friends, list_of_amount):\n",
    "    balance = amount - even_share # Calculer le solde de l'ami\n",
    "    if balance > 0:\n",
    "        # Si l'ami doit de l'argent, trouver un ami à qui il doit\n",
    "        for other_friend, other_amount in zip(list_of_friends, list_of_amount):\n",
    "            if other_amount - even_share < 0:\n",
    "                transfer_amount = min(balance, abs(other_amount - even_share))\n",
    "                print(\"{} doit {:.2f} € à {}\".format(other_friend.strip(), transfer_amount,friend.strip()))\n",
    "                # Mettre à jour les soldes\n",
    "                amount -= transfer_amount\n",
    "                other_amount += transfer_amount\n",
    "                break  # Sortir de la boucle une fois la transaction effectuée\n",
    "    elif balance < 0:\n",
    "        # Si l'ami doit recevoir de l'argent, trouver un ami qui lui doit\n",
    "        for other_friend, other_amount in zip(list_of_friends, list_of_amount):\n",
    "            if other_amount - even_share > 0:\n",
    "                transfer_amount = min(abs(balance), other_amount - even_share)\n",
    "                print(\"{} doit recevoir {:.2f} € de {}\".format(other_friend.strip(), transfer_amount, friend.strip()))\n",
    "                # Mettre à jour les soldes\n",
    "                amount += transfer_amount\n",
    "                other_amount -= transfer_amount\n",
    "                break  # Sortir de la boucle une fois la transaction effectuée\n",
    "    \n",
    "print(friends_list)\n",
    "print(\"le montant total est {:.2f}\".format(Total_amount))\n",
    "print(\"le nombre d'amis est de {}\".format(nb_friends))\n",
    "print(\"even share is equal to {:.2f}€\".format(even_share))\n",
    "print(ajustement_format)\n",
    " "
   ]
  },
  {
   "cell_type": "markdown",
   "metadata": {},
   "source": []
  }
 ],
 "metadata": {
  "kernelspec": {
   "display_name": "base",
   "language": "python",
   "name": "python3"
  },
  "language_info": {
   "codemirror_mode": {
    "name": "ipython",
    "version": 3
   },
   "file_extension": ".py",
   "mimetype": "text/x-python",
   "name": "python",
   "nbconvert_exporter": "python",
   "pygments_lexer": "ipython3",
   "version": "3.11.7"
  }
 },
 "nbformat": 4,
 "nbformat_minor": 2
}
